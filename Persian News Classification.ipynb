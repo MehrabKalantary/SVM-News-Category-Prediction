{
 "cells": [
  {
   "cell_type": "markdown",
   "id": "d506aa32",
   "metadata": {},
   "source": [
    "# Persian News Category Prediction\n",
    "In this notebook we are going to work with persian news dataset and create a classification model to predict category of news  from its title and body.\n"
   ]
  },
  {
   "cell_type": "markdown",
   "id": "49938a5e",
   "metadata": {},
   "source": [
    "### About dataset\n",
    "Dataset consists of 10999 rows and 7 features.\n",
    "* NewsID\n",
    "* Title\n",
    "* Body\n",
    "* Date\n",
    "* Time\n",
    "* Category: All categories\n",
    "* Category2: The most related category"
   ]
  },
  {
   "cell_type": "code",
   "execution_count": 1,
   "id": "abc325eb",
   "metadata": {},
   "outputs": [],
   "source": [
    "import numpy as np\n",
    "import pandas as pd\n",
    "import seaborn as sns\n",
    "import matplotlib.pyplot as plt"
   ]
  },
  {
   "cell_type": "code",
   "execution_count": 2,
   "id": "cd477a61",
   "metadata": {},
   "outputs": [
    {
     "data": {
      "text/html": [
       "<div>\n",
       "<style scoped>\n",
       "    .dataframe tbody tr th:only-of-type {\n",
       "        vertical-align: middle;\n",
       "    }\n",
       "\n",
       "    .dataframe tbody tr th {\n",
       "        vertical-align: top;\n",
       "    }\n",
       "\n",
       "    .dataframe thead th {\n",
       "        text-align: right;\n",
       "    }\n",
       "</style>\n",
       "<table border=\"1\" class=\"dataframe\">\n",
       "  <thead>\n",
       "    <tr style=\"text-align: right;\">\n",
       "      <th></th>\n",
       "      <th>NewsID</th>\n",
       "      <th>Title</th>\n",
       "      <th>Body</th>\n",
       "      <th>Date</th>\n",
       "      <th>Time</th>\n",
       "      <th>Category</th>\n",
       "      <th>Category2</th>\n",
       "    </tr>\n",
       "  </thead>\n",
       "  <tbody>\n",
       "    <tr>\n",
       "      <th>0</th>\n",
       "      <td>843656</td>\n",
       "      <td>\\r\\nوزير علوم درجمع استادان نمونه: سن بازنشستگ...</td>\n",
       "      <td>\\r\\nوزير علوم در جمع استادان نمونه كشور گفت: ا...</td>\n",
       "      <td>\\r\\n138/5//09</td>\n",
       "      <td>\\r\\n0:9::18</td>\n",
       "      <td>\\r\\nآموزشي-</td>\n",
       "      <td>\\r\\nآموزشي</td>\n",
       "    </tr>\n",
       "    <tr>\n",
       "      <th>1</th>\n",
       "      <td>837144</td>\n",
       "      <td>\\r\\nگردهمايي دانش‌آموختگان موسسه آموزش عالي سو...</td>\n",
       "      <td>\\r\\nبه گزارش سرويس صنفي آموزشي خبرگزاري دانشجو...</td>\n",
       "      <td>\\r\\n138/5//09</td>\n",
       "      <td>\\r\\n1:4::11</td>\n",
       "      <td>\\r\\nآموزشي-</td>\n",
       "      <td>\\r\\nآموزشي</td>\n",
       "    </tr>\n",
       "    <tr>\n",
       "      <th>2</th>\n",
       "      <td>436862</td>\n",
       "      <td>\\r\\nنتايج آزمون دوره‌هاي فراگير دانشگاه پيام‌ن...</td>\n",
       "      <td>\\r\\nنتايج آزمون دوره‌هاي فراگير مقاطع كارشناسي...</td>\n",
       "      <td>\\r\\n138/3//07</td>\n",
       "      <td>\\r\\n1:0::03</td>\n",
       "      <td>\\r\\nآموزشي-</td>\n",
       "      <td>\\r\\nآموزشي</td>\n",
       "    </tr>\n",
       "    <tr>\n",
       "      <th>3</th>\n",
       "      <td>227781</td>\n",
       "      <td>\\r\\nهمايش يكروزه آسيب شناسي مفهوم روابط عمومي ...</td>\n",
       "      <td>\\r\\n</td>\n",
       "      <td>\\r\\n138/2//02</td>\n",
       "      <td>\\r\\n1:3::42</td>\n",
       "      <td>\\r\\nاجتماعي-خانواده-</td>\n",
       "      <td>\\r\\nاجتماعي</td>\n",
       "    </tr>\n",
       "    <tr>\n",
       "      <th>4</th>\n",
       "      <td>174187</td>\n",
       "      <td>\\r\\nوضعيت اقتصادي و ميزان تحصيلات والدين از مه...</td>\n",
       "      <td>\\r\\nمحمدتقي علوي يزدي، مجري اين طرح پژوهشي در ...</td>\n",
       "      <td>\\r\\n138/1//08</td>\n",
       "      <td>\\r\\n1:1::49</td>\n",
       "      <td>\\r\\nآموزشي-</td>\n",
       "      <td>\\r\\nآموزشي</td>\n",
       "    </tr>\n",
       "  </tbody>\n",
       "</table>\n",
       "</div>"
      ],
      "text/plain": [
       "   NewsID                                              Title  \\\n",
       "0  843656  \\r\\nوزير علوم درجمع استادان نمونه: سن بازنشستگ...   \n",
       "1  837144  \\r\\nگردهمايي دانش‌آموختگان موسسه آموزش عالي سو...   \n",
       "2  436862  \\r\\nنتايج آزمون دوره‌هاي فراگير دانشگاه پيام‌ن...   \n",
       "3  227781  \\r\\nهمايش يكروزه آسيب شناسي مفهوم روابط عمومي ...   \n",
       "4  174187  \\r\\nوضعيت اقتصادي و ميزان تحصيلات والدين از مه...   \n",
       "\n",
       "                                                Body           Date  \\\n",
       "0  \\r\\nوزير علوم در جمع استادان نمونه كشور گفت: ا...  \\r\\n138/5//09   \n",
       "1  \\r\\nبه گزارش سرويس صنفي آموزشي خبرگزاري دانشجو...  \\r\\n138/5//09   \n",
       "2  \\r\\nنتايج آزمون دوره‌هاي فراگير مقاطع كارشناسي...  \\r\\n138/3//07   \n",
       "3                                               \\r\\n  \\r\\n138/2//02   \n",
       "4  \\r\\nمحمدتقي علوي يزدي، مجري اين طرح پژوهشي در ...  \\r\\n138/1//08   \n",
       "\n",
       "          Time              Category    Category2  \n",
       "0  \\r\\n0:9::18           \\r\\nآموزشي-   \\r\\nآموزشي  \n",
       "1  \\r\\n1:4::11           \\r\\nآموزشي-   \\r\\nآموزشي  \n",
       "2  \\r\\n1:0::03           \\r\\nآموزشي-   \\r\\nآموزشي  \n",
       "3  \\r\\n1:3::42  \\r\\nاجتماعي-خانواده-  \\r\\nاجتماعي  \n",
       "4  \\r\\n1:1::49           \\r\\nآموزشي-   \\r\\nآموزشي  "
      ]
     },
     "execution_count": 2,
     "metadata": {},
     "output_type": "execute_result"
    }
   ],
   "source": [
    "data = pd.read_csv('per.csv')\n",
    "data.head()"
   ]
  },
  {
   "cell_type": "code",
   "execution_count": 3,
   "id": "5b78fcbe",
   "metadata": {},
   "outputs": [
    {
     "data": {
      "text/plain": [
       "(10999, 7)"
      ]
     },
     "execution_count": 3,
     "metadata": {},
     "output_type": "execute_result"
    }
   ],
   "source": [
    "data.shape"
   ]
  },
  {
   "cell_type": "markdown",
   "id": "0478b951",
   "metadata": {},
   "source": [
    "# Preprocessing\n",
    "* Stopwords removal\n",
    "* Stemming\n",
    "* Encoding"
   ]
  },
  {
   "cell_type": "markdown",
   "id": "c439157b",
   "metadata": {},
   "source": [
    "Persian stopwords"
   ]
  },
  {
   "cell_type": "code",
   "execution_count": 4,
   "id": "ca532df6",
   "metadata": {},
   "outputs": [],
   "source": [
    "with open('stopwords.txt', encoding=\"utf8\") as stopwords_file:\n",
    "    stopwords = stopwords_file.readlines()\n",
    "stopwords = [line.replace('\\n', '') for line in stopwords]"
   ]
  },
  {
   "cell_type": "code",
   "execution_count": 5,
   "id": "cc281dc1",
   "metadata": {},
   "outputs": [
    {
     "data": {
      "text/plain": [
       "['آخر', 'آخرها', 'آخه', 'آدمهاست', 'آرام']"
      ]
     },
     "execution_count": 5,
     "metadata": {},
     "output_type": "execute_result"
    }
   ],
   "source": [
    "stopwords[20:25]"
   ]
  },
  {
   "cell_type": "code",
   "execution_count": 6,
   "id": "cc275eaa",
   "metadata": {},
   "outputs": [
    {
     "data": {
      "text/plain": [
       "1316"
      ]
     },
     "execution_count": 6,
     "metadata": {},
     "output_type": "execute_result"
    }
   ],
   "source": [
    "len(stopwords)"
   ]
  },
  {
   "cell_type": "markdown",
   "id": "ff031046",
   "metadata": {},
   "source": [
    "Persian stemmer"
   ]
  },
  {
   "cell_type": "code",
   "execution_count": 7,
   "id": "457a6167",
   "metadata": {},
   "outputs": [],
   "source": [
    "import hazm\n",
    "from hazm import word_tokenize"
   ]
  },
  {
   "cell_type": "code",
   "execution_count": 8,
   "id": "70f7805d",
   "metadata": {},
   "outputs": [],
   "source": [
    "stemmer = hazm.Stemmer()"
   ]
  },
  {
   "cell_type": "code",
   "execution_count": 9,
   "id": "6a3d8c33",
   "metadata": {},
   "outputs": [
    {
     "data": {
      "text/plain": [
       "'کتاب'"
      ]
     },
     "execution_count": 9,
     "metadata": {},
     "output_type": "execute_result"
    }
   ],
   "source": [
    "stemmer.stem('کتاب‌ها')"
   ]
  },
  {
   "cell_type": "markdown",
   "id": "9465eedb",
   "metadata": {},
   "source": [
    "Creating a new dataset with title and body of each news after applying stemmer and stopwords removal"
   ]
  },
  {
   "cell_type": "code",
   "execution_count": 11,
   "id": "257249ec",
   "metadata": {},
   "outputs": [],
   "source": [
    "dataset = pd.DataFrame(columns=('title_body', 'category'))"
   ]
  },
  {
   "cell_type": "code",
   "execution_count": 12,
   "id": "b69cc8bf",
   "metadata": {},
   "outputs": [],
   "source": [
    "for index, row in data.iterrows():\n",
    "    title_body = row['Title'] + ' ' + row['Body']\n",
    "    title_body_tokenized = word_tokenize(title_body)\n",
    "    title_body_tokenized_filtered = [w for w in title_body_tokenized if not w in stopwords]\n",
    "    title_body_tokenized_filtered_stemmed = [stemmer.stem(w) for w in title_body_tokenized_filtered]\n",
    "    dataset.loc[index] = {\n",
    "        'title_body': ' '.join(title_body_tokenized_filtered_stemmed).replace('\\r', ''),\n",
    "        'category': row['Category2'].replace('\\n', '').replace('\\r', '')\n",
    "    }"
   ]
  },
  {
   "cell_type": "code",
   "execution_count": 13,
   "id": "2896ce55",
   "metadata": {},
   "outputs": [
    {
     "data": {
      "text/html": [
       "<div>\n",
       "<style scoped>\n",
       "    .dataframe tbody tr th:only-of-type {\n",
       "        vertical-align: middle;\n",
       "    }\n",
       "\n",
       "    .dataframe tbody tr th {\n",
       "        vertical-align: top;\n",
       "    }\n",
       "\n",
       "    .dataframe thead th {\n",
       "        text-align: right;\n",
       "    }\n",
       "</style>\n",
       "<table border=\"1\" class=\"dataframe\">\n",
       "  <thead>\n",
       "    <tr style=\"text-align: right;\">\n",
       "      <th></th>\n",
       "      <th>title_body</th>\n",
       "      <th>category</th>\n",
       "    </tr>\n",
       "  </thead>\n",
       "  <tbody>\n",
       "    <tr>\n",
       "      <th>0</th>\n",
       "      <td>وزير علو درجمع استاد نمونه سن بازنشستگي استاد...</td>\n",
       "      <td>آموزشي</td>\n",
       "    </tr>\n",
       "    <tr>\n",
       "      <th>1</th>\n",
       "      <td>گردهمايي دانش‌آموختگ موسسه آموز عالي سوره برگ...</td>\n",
       "      <td>آموزشي</td>\n",
       "    </tr>\n",
       "    <tr>\n",
       "      <th>2</th>\n",
       "      <td>نتايج آزمون دوره‌هاي فراگير دانشگاه پيام‌نور ...</td>\n",
       "      <td>آموزشي</td>\n",
       "    </tr>\n",
       "    <tr>\n",
       "      <th>3</th>\n",
       "      <td>هماي يكروزه آسيب شناسي مفهو روابط عمومي بابلس...</td>\n",
       "      <td>اجتماعي</td>\n",
       "    </tr>\n",
       "    <tr>\n",
       "      <th>4</th>\n",
       "      <td>وضعي اقتصادي ميز تحصيل والدين مهمترين عوامل م...</td>\n",
       "      <td>آموزشي</td>\n",
       "    </tr>\n",
       "  </tbody>\n",
       "</table>\n",
       "</div>"
      ],
      "text/plain": [
       "                                          title_body category\n",
       "0   وزير علو درجمع استاد نمونه سن بازنشستگي استاد...   آموزشي\n",
       "1   گردهمايي دانش‌آموختگ موسسه آموز عالي سوره برگ...   آموزشي\n",
       "2   نتايج آزمون دوره‌هاي فراگير دانشگاه پيام‌نور ...   آموزشي\n",
       "3   هماي يكروزه آسيب شناسي مفهو روابط عمومي بابلس...  اجتماعي\n",
       "4   وضعي اقتصادي ميز تحصيل والدين مهمترين عوامل م...   آموزشي"
      ]
     },
     "execution_count": 13,
     "metadata": {},
     "output_type": "execute_result"
    }
   ],
   "source": [
    "dataset.head()"
   ]
  },
  {
   "cell_type": "code",
   "execution_count": 14,
   "id": "deda1940",
   "metadata": {},
   "outputs": [
    {
     "data": {
      "text/plain": [
       "(10999, 2)"
      ]
     },
     "execution_count": 14,
     "metadata": {},
     "output_type": "execute_result"
    }
   ],
   "source": [
    "dataset.shape"
   ]
  },
  {
   "cell_type": "markdown",
   "id": "d6a0c78b",
   "metadata": {},
   "source": [
    "Encoding cleaned dataset"
   ]
  },
  {
   "cell_type": "code",
   "execution_count": 15,
   "id": "610ed56b",
   "metadata": {},
   "outputs": [],
   "source": [
    "from sklearn.feature_extraction.text import TfidfVectorizer"
   ]
  },
  {
   "cell_type": "code",
   "execution_count": 16,
   "id": "2cb4ed56",
   "metadata": {},
   "outputs": [],
   "source": [
    "vectorizer = TfidfVectorizer()"
   ]
  },
  {
   "cell_type": "code",
   "execution_count": 17,
   "id": "dace6f84",
   "metadata": {},
   "outputs": [],
   "source": [
    "X = vectorizer.fit_transform(dataset['title_body'])"
   ]
  },
  {
   "cell_type": "code",
   "execution_count": 18,
   "id": "f85a949e",
   "metadata": {},
   "outputs": [
    {
     "data": {
      "text/plain": [
       "(10999, 60849)"
      ]
     },
     "execution_count": 18,
     "metadata": {},
     "output_type": "execute_result"
    }
   ],
   "source": [
    "X.shape"
   ]
  },
  {
   "cell_type": "code",
   "execution_count": 19,
   "id": "f474db4f",
   "metadata": {},
   "outputs": [],
   "source": [
    "from sklearn.preprocessing import LabelEncoder"
   ]
  },
  {
   "cell_type": "code",
   "execution_count": 20,
   "id": "8ae48cfc",
   "metadata": {},
   "outputs": [],
   "source": [
    "le = LabelEncoder()\n",
    "y = le.fit_transform(dataset['category'])"
   ]
  },
  {
   "cell_type": "code",
   "execution_count": 21,
   "id": "b01933ec",
   "metadata": {},
   "outputs": [
    {
     "data": {
      "text/plain": [
       "array(['آموزشي', 'اجتماعي', 'اقتصادي', 'بهداشتي', 'تاريخي', 'سياسي',\n",
       "       'علمي', 'فرهنگي', 'فقه و حقوق', 'مذهبي', 'ورزشي'], dtype=object)"
      ]
     },
     "execution_count": 21,
     "metadata": {},
     "output_type": "execute_result"
    }
   ],
   "source": [
    "le.classes_"
   ]
  },
  {
   "cell_type": "code",
   "execution_count": 22,
   "id": "511b106b",
   "metadata": {},
   "outputs": [
    {
     "data": {
      "text/plain": [
       "10999"
      ]
     },
     "execution_count": 22,
     "metadata": {},
     "output_type": "execute_result"
    }
   ],
   "source": [
    "len(y)"
   ]
  },
  {
   "cell_type": "code",
   "execution_count": 23,
   "id": "21942e66",
   "metadata": {},
   "outputs": [],
   "source": [
    "from sklearn.model_selection import train_test_split"
   ]
  },
  {
   "cell_type": "code",
   "execution_count": 24,
   "id": "0f90b97b",
   "metadata": {},
   "outputs": [],
   "source": [
    "X_train, X_test, y_train, y_test = train_test_split(X, y, random_state=111)"
   ]
  },
  {
   "cell_type": "markdown",
   "id": "faeb440c",
   "metadata": {},
   "source": [
    "---\n",
    "# Modeling\n",
    "In this part we use SVC to make predictions"
   ]
  },
  {
   "cell_type": "code",
   "execution_count": 25,
   "id": "cd5f2734",
   "metadata": {},
   "outputs": [],
   "source": [
    "from sklearn.svm import SVC"
   ]
  },
  {
   "cell_type": "code",
   "execution_count": 26,
   "id": "e1b0e1c8",
   "metadata": {},
   "outputs": [],
   "source": [
    "svc = SVC(random_state=123)"
   ]
  },
  {
   "cell_type": "code",
   "execution_count": 27,
   "id": "434b339d",
   "metadata": {},
   "outputs": [
    {
     "data": {
      "text/plain": [
       "SVC()"
      ]
     },
     "execution_count": 27,
     "metadata": {},
     "output_type": "execute_result"
    }
   ],
   "source": [
    "svc.fit(X_train, y_train)"
   ]
  },
  {
   "cell_type": "code",
   "execution_count": 28,
   "id": "2fe485d9",
   "metadata": {},
   "outputs": [
    {
     "data": {
      "text/plain": [
       "4"
      ]
     },
     "execution_count": 28,
     "metadata": {},
     "output_type": "execute_result"
    }
   ],
   "source": [
    "y_test[4]"
   ]
  },
  {
   "cell_type": "markdown",
   "id": "fcb48ade",
   "metadata": {},
   "source": [
    "Make prediction"
   ]
  },
  {
   "cell_type": "code",
   "execution_count": 29,
   "id": "1f66f5d0",
   "metadata": {},
   "outputs": [
    {
     "data": {
      "text/plain": [
       "array([4])"
      ]
     },
     "execution_count": 29,
     "metadata": {},
     "output_type": "execute_result"
    }
   ],
   "source": [
    "svc.predict(X_test[4])"
   ]
  },
  {
   "cell_type": "code",
   "execution_count": 30,
   "id": "1030e67c",
   "metadata": {},
   "outputs": [
    {
     "data": {
      "text/plain": [
       "array(['علمي'], dtype=object)"
      ]
     },
     "execution_count": 30,
     "metadata": {},
     "output_type": "execute_result"
    }
   ],
   "source": [
    "le.inverse_transform([6])"
   ]
  },
  {
   "cell_type": "markdown",
   "id": "8d9b4729",
   "metadata": {},
   "source": [
    "---\n",
    "# Evaluation"
   ]
  },
  {
   "cell_type": "code",
   "execution_count": 31,
   "id": "b4952dad",
   "metadata": {},
   "outputs": [],
   "source": [
    "from sklearn.metrics import classification_report, confusion_matrix"
   ]
  },
  {
   "cell_type": "code",
   "execution_count": 32,
   "id": "f0333c09",
   "metadata": {},
   "outputs": [],
   "source": [
    "y_pred = svc.predict(X_test)"
   ]
  },
  {
   "cell_type": "code",
   "execution_count": 33,
   "id": "8af23567",
   "metadata": {},
   "outputs": [
    {
     "name": "stdout",
     "output_type": "stream",
     "text": [
      "              precision    recall  f1-score   support\n",
      "\n",
      "           0       0.86      0.91      0.88       258\n",
      "           1       0.62      0.62      0.62       254\n",
      "           2       0.82      0.82      0.82       242\n",
      "           3       0.88      0.92      0.90       275\n",
      "           4       0.88      0.92      0.90       239\n",
      "           5       0.77      0.75      0.76       252\n",
      "           6       0.80      0.75      0.77       252\n",
      "           7       0.84      0.90      0.87       252\n",
      "           8       0.93      0.85      0.89       240\n",
      "           9       0.94      0.91      0.93       243\n",
      "          10       0.97      0.96      0.97       243\n",
      "\n",
      "    accuracy                           0.85      2750\n",
      "   macro avg       0.85      0.85      0.85      2750\n",
      "weighted avg       0.85      0.85      0.85      2750\n",
      "\n"
     ]
    }
   ],
   "source": [
    "print(classification_report(y_test, y_pred))"
   ]
  },
  {
   "cell_type": "code",
   "execution_count": 34,
   "id": "63dffd98",
   "metadata": {},
   "outputs": [
    {
     "data": {
      "image/png": "[encoded data removed]",
      "text/plain": [
       "<Figure size 432x288 with 2 Axes>"
      ]
     },
     "metadata": {
      "needs_background": "light"
     },
     "output_type": "display_data"
    }
   ],
   "source": [
    "ax = plt.subplot()\n",
    "sns.set(font_scale=1.4)\n",
    "sns.heatmap(confusion_matrix(y_test, y_pred), annot=True, fmt='g', ax=ax)\n",
    "ax.set_xlabel('Predicted labels')\n",
    "ax.set_ylabel('True labels')\n",
    "ax.set_title('Confusion Matrix')\n",
    "plt.show()"
   ]
  },
  {
   "cell_type": "markdown",
   "id": "19b99351",
   "metadata": {},
   "source": [
    "---\n",
    "# GridSearch "
   ]
  },
  {
   "cell_type": "code",
   "execution_count": 45,
   "id": "b91b257c",
   "metadata": {},
   "outputs": [],
   "source": [
    "from sklearn.model_selection import GridSearchCV"
   ]
  },
  {
   "cell_type": "code",
   "execution_count": 46,
   "id": "dfc0b2ec",
   "metadata": {},
   "outputs": [],
   "source": [
    "params = {\n",
    "    'C': [1, 5, 10],\n",
    "    'kernel': ['rbf'],\n",
    "    'gamma': ['auto', 'scale']\n",
    "}"
   ]
  },
  {
   "cell_type": "code",
   "execution_count": 47,
   "id": "f47187fb",
   "metadata": {},
   "outputs": [],
   "source": [
    "grid_search = GridSearchCV(SVC(), param_grid=params, scoring='accuracy', cv=4, n_jobs=-1)"
   ]
  },
  {
   "cell_type": "code",
   "execution_count": 48,
   "id": "e34bc6ba",
   "metadata": {},
   "outputs": [
    {
     "data": {
      "text/plain": [
       "GridSearchCV(cv=4, estimator=SVC(), n_jobs=-1,\n",
       "             param_grid={'C': [1, 5, 10], 'gamma': ['auto', 'scale'],\n",
       "                         'kernel': ['rbf']},\n",
       "             scoring='accuracy')"
      ]
     },
     "execution_count": 48,
     "metadata": {},
     "output_type": "execute_result"
    }
   ],
   "source": [
    "grid_search.fit(X_train, y_train)"
   ]
  },
  {
   "cell_type": "code",
   "execution_count": 49,
   "id": "5f3fe03d",
   "metadata": {},
   "outputs": [
    {
     "data": {
      "text/plain": [
       "SVC(C=5)"
      ]
     },
     "execution_count": 49,
     "metadata": {},
     "output_type": "execute_result"
    }
   ],
   "source": [
    "grid_search.best_estimator_"
   ]
  },
  {
   "cell_type": "code",
   "execution_count": 50,
   "id": "a61aaf77",
   "metadata": {},
   "outputs": [
    {
     "data": {
      "text/plain": [
       "0.8359815661182923"
      ]
     },
     "execution_count": 50,
     "metadata": {},
     "output_type": "execute_result"
    }
   ],
   "source": [
    "grid_search.best_score_"
   ]
  },
  {
   "cell_type": "code",
   "execution_count": 51,
   "id": "17bd210f",
   "metadata": {},
   "outputs": [
    {
     "data": {
      "text/plain": [
       "{'C': 5, 'gamma': 'scale', 'kernel': 'rbf'}"
      ]
     },
     "execution_count": 51,
     "metadata": {},
     "output_type": "execute_result"
    }
   ],
   "source": [
    "grid_search.best_params_"
   ]
  },
  {
   "cell_type": "code",
   "execution_count": null,
   "id": "4f42cad0",
   "metadata": {},
   "outputs": [],
   "source": []
  }
 ],
 "metadata": {
  "kernelspec": {
   "display_name": "Python 3 (ipykernel)",
   "language": "python",
   "name": "python3"
  },
  "language_info": {
   "codemirror_mode": {
    "name": "ipython",
    "version": 3
   },
   "file_extension": ".py",
   "mimetype": "text/x-python",
   "name": "python",
   "nbconvert_exporter": "python",
   "pygments_lexer": "ipython3",
   "version": "3.9.12"
  }
 },
 "nbformat": 4,
 "nbformat_minor": 5
}
